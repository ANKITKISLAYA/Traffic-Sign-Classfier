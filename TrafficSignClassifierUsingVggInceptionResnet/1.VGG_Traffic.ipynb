{
 "cells": [
  {
   "cell_type": "markdown",
   "id": "b89c4675-a833-4e81-a2bc-7b0f914baf0d",
   "metadata": {},
   "source": [
    "#### Using Bottleneck features of Vgg for feature extraction"
   ]
  },
  {
   "cell_type": "code",
   "execution_count": null,
   "id": "d1c7121b-fdef-423e-9d60-f1d2616755b9",
   "metadata": {},
   "outputs": [],
   "source": []
  },
  {
   "cell_type": "markdown",
   "id": "8acb75c8-5261-446c-abef-280af2952b09",
   "metadata": {},
   "source": [
    "#### Exploring our vgg_traffic_bottleneck_features_train.p and vgg_traffic_bottleneck_features_validation.p"
   ]
  },
  {
   "cell_type": "code",
   "execution_count": 1,
   "id": "c00a8bb9-f691-415e-871c-d927fdc3146b",
   "metadata": {},
   "outputs": [],
   "source": [
    "import pickle\n",
    "import collections, numpy as np\n",
    "\n",
    "training_file = \"vgg_traffic_bottleneck_features_train.p\"\n",
    "validation_file = \"vgg_traffic_bottleneck_features_validation.p\"\n",
    "\n",
    "with open(training_file, 'rb') as f:\n",
    "    train_data = pickle.load(f)\n",
    "with open(validation_file, 'rb') as f:\n",
    "    validation_data = pickle.load(f)"
   ]
  },
  {
   "cell_type": "code",
   "execution_count": 2,
   "id": "197f68e4-5b4a-4dba-b950-917a06dae9e5",
   "metadata": {},
   "outputs": [
    {
     "name": "stdout",
     "output_type": "stream",
     "text": [
      "Training Bottleneck features shape :- (26270, 1, 1, 512)\n",
      "Training Bottleneck labels shape :- (26270,)\n",
      "Validation Bottleneck features shape :- (12939, 1, 1, 512)\n",
      "Validation Bottleneck labels shape :- (12939,)\n",
      "Unique Classes :- [ 0  1  2  3  4  5  6  7  8  9 10 11 12 13 14 15 16 17 18 19 20 21 22 23\n",
      " 24 25 26 27 28 29 30 31 32 33 34 35 36 37 38 39 40 41 42]\n",
      "Number of Examples in each Class :- Counter({2: 1519, 1: 1487, 12: 1440, 13: 1425, 38: 1357, 10: 1345, 4: 1318, 5: 1244, 9: 1006, 25: 973, 8: 966, 3: 944, 7: 939, 11: 867, 18: 845, 35: 838, 17: 746, 31: 516, 14: 492, 33: 489, 15: 419, 26: 408, 28: 337, 23: 335, 34: 297, 30: 296, 16: 277, 6: 273, 36: 269, 22: 267, 20: 239, 40: 237, 21: 229, 39: 199, 29: 173, 32: 173, 42: 172, 24: 168, 41: 166, 27: 156, 19: 152, 0: 139, 37: 133})\n"
     ]
    }
   ],
   "source": [
    "print(\"Training Bottleneck features shape :-\",train_data['features'].shape)\n",
    "print(\"Training Bottleneck labels shape :-\",train_data['labels'].shape)\n",
    "print(\"Validation Bottleneck features shape :-\",validation_data['features'].shape)\n",
    "print(\"Validation Bottleneck labels shape :-\",validation_data['labels'].shape)\n",
    "print(\"Unique Classes :-\", np.unique(train_data['labels']))\n",
    "labels = train_data['labels'].reshape(train_data['labels'].shape[0])\n",
    "counter = collections.Counter(labels)\n",
    "print(\"Number of Examples in each Class :-\", counter)"
   ]
  },
  {
   "cell_type": "markdown",
   "id": "c7c81aa8-7f4c-47f0-b7a6-abcbba143983",
   "metadata": {},
   "source": [
    "#### Importing Necessary Packages"
   ]
  },
  {
   "cell_type": "code",
   "execution_count": 3,
   "id": "562bd8da-4069-417b-9f6d-5d088613357e",
   "metadata": {},
   "outputs": [
    {
     "name": "stdout",
     "output_type": "stream",
     "text": [
      "WARNING:tensorflow:From C:\\Users\\akislaya\\Anaconda3\\envs\\IntroToTensorFlow\\lib\\site-packages\\tensorflow\\python\\compat\\v2_compat.py:107: disable_resource_variables (from tensorflow.python.ops.variable_scope) is deprecated and will be removed in a future version.\n",
      "Instructions for updating:\n",
      "non-resource variables are not supported in the long term\n"
     ]
    }
   ],
   "source": [
    "import pickle\n",
    "import tensorflow.compat.v1 as tf\n",
    "tf.disable_v2_behavior()\n",
    "from keras.models import Sequential\n",
    "import numpy as np\n"
   ]
  },
  {
   "cell_type": "markdown",
   "id": "f7563295-75af-4a3a-9396-2299ff1d9eae",
   "metadata": {},
   "source": [
    "#### Function to extract and load bottleneck data from training_file and validation_file"
   ]
  },
  {
   "cell_type": "code",
   "execution_count": 4,
   "id": "f1571718-d154-4769-8658-4ae9d86b96a4",
   "metadata": {},
   "outputs": [],
   "source": [
    "def load_bottleneck_data(training_file, validation_file):\n",
    "    \"\"\"\n",
    "    Utility function to load bottleneck features.\n",
    "\n",
    "    Arguments:\n",
    "        training_file - String\n",
    "        validation_file - String\n",
    "    \"\"\"\n",
    "    print(\"Training file\", training_file)\n",
    "    print(\"Validation file\", validation_file)\n",
    "\n",
    "    with open(training_file, 'rb') as f:\n",
    "        train_data = pickle.load(f)\n",
    "    with open(validation_file, 'rb') as f:\n",
    "        validation_data = pickle.load(f)\n",
    "\n",
    "    X_train = train_data['features']\n",
    "    y_train = train_data['labels']\n",
    "    X_val = validation_data['features']\n",
    "    y_val = validation_data['labels']\n",
    "\n",
    "    return X_train, y_train, X_val, y_val\n",
    "\n"
   ]
  },
  {
   "cell_type": "markdown",
   "id": "da185651-0f5e-4f08-8505-c292e956d269",
   "metadata": {},
   "source": [
    "#### Building and Training the model"
   ]
  },
  {
   "cell_type": "code",
   "execution_count": 5,
   "id": "d68b7a41-2ba9-4edb-ae83-4fe863398b01",
   "metadata": {},
   "outputs": [
    {
     "name": "stdout",
     "output_type": "stream",
     "text": [
      "Training file vgg_traffic_bottleneck_features_train.p\n",
      "Validation file vgg_traffic_bottleneck_features_validation.p\n",
      "(26270, 1, 1, 512) (26270,)\n",
      "(12939, 1, 1, 512) (12939,)\n",
      "Model: \"sequential\"\n",
      "_________________________________________________________________\n",
      " Layer (type)                Output Shape              Param #   \n",
      "=================================================================\n",
      " flatten (Flatten)           (None, 512)               0         \n",
      "                                                                 \n",
      " dense (Dense)               (None, 43)                22059     \n",
      "                                                                 \n",
      "=================================================================\n",
      "Total params: 22,059\n",
      "Trainable params: 22,059\n",
      "Non-trainable params: 0\n",
      "_________________________________________________________________\n"
     ]
    }
   ],
   "source": [
    "training_file = \"vgg_traffic_bottleneck_features_train.p\"\n",
    "validation_file = \"vgg_traffic_bottleneck_features_validation.p\"\n",
    "\n",
    "# load bottleneck data\n",
    "X_train, y_train, X_val, y_val = load_bottleneck_data(training_file, validation_file)\n",
    "\n",
    "print(X_train.shape, y_train.shape)\n",
    "print(X_val.shape, y_val.shape)\n",
    "\n",
    "# defining number of classes and hyperparams below\n",
    "n_classes = len(np.unique(y_train))\n",
    "learning_rate = 0.01\n",
    "batch_size = 256\n",
    "epochs = 50\n",
    "    \n",
    "# Building the model \n",
    "input_shape = X_train.shape[1:]\n",
    "\n",
    "model = tf.keras.Sequential()\n",
    "model.add(tf.keras.Input(shape=input_shape))\n",
    "model.add(tf.keras.layers.Flatten())\n",
    "model.add(tf.keras.layers.Dense(n_classes,activation='softmax'))\n",
    "\n",
    "model.summary()\n",
    "\n"
   ]
  },
  {
   "cell_type": "code",
   "execution_count": 6,
   "id": "a5c75f33-3d53-466a-82dd-d8ffffff9f5b",
   "metadata": {},
   "outputs": [
    {
     "name": "stdout",
     "output_type": "stream",
     "text": [
      "Train on 26270 samples, validate on 12939 samples\n",
      "Epoch 1/50\n",
      "26270/26270 [==============================] - 0s 14us/sample - loss: 2.6017 - acc: 0.3806 - val_loss: 1.1468 - val_acc: 0.6515\n",
      "Epoch 2/50\n",
      " 9216/26270 [=========>....................] - ETA: 0s - loss: 1.0426 - acc: 0.6867"
     ]
    },
    {
     "name": "stderr",
     "output_type": "stream",
     "text": [
      "C:\\Users\\akislaya\\Anaconda3\\envs\\IntroToTensorFlow\\lib\\site-packages\\keras\\engine\\training_v1.py:2332: UserWarning: `Model.state_updates` will be removed in a future version. This property should not be used in TensorFlow 2.0, as `updates` are applied automatically.\n",
      "  updates = self.state_updates\n"
     ]
    },
    {
     "name": "stdout",
     "output_type": "stream",
     "text": [
      "26270/26270 [==============================] - 0s 9us/sample - loss: 0.8716 - acc: 0.7422 - val_loss: 0.6881 - val_acc: 0.8034\n",
      "Epoch 3/50\n",
      "26270/26270 [==============================] - 0s 10us/sample - loss: 0.5692 - acc: 0.8453 - val_loss: 0.5063 - val_acc: 0.8627\n",
      "Epoch 4/50\n",
      "26270/26270 [==============================] - 0s 9us/sample - loss: 0.4310 - acc: 0.8917 - val_loss: 0.4114 - val_acc: 0.8900\n",
      "Epoch 5/50\n",
      "26270/26270 [==============================] - 0s 9us/sample - loss: 0.3518 - acc: 0.9135 - val_loss: 0.3561 - val_acc: 0.9050\n",
      "Epoch 6/50\n",
      "26270/26270 [==============================] - 0s 9us/sample - loss: 0.3008 - acc: 0.9283 - val_loss: 0.3179 - val_acc: 0.9154\n",
      "Epoch 7/50\n",
      "26270/26270 [==============================] - 0s 9us/sample - loss: 0.2616 - acc: 0.9387 - val_loss: 0.2909 - val_acc: 0.9219\n",
      "Epoch 8/50\n",
      "26270/26270 [==============================] - 0s 9us/sample - loss: 0.2326 - acc: 0.9456 - val_loss: 0.2607 - val_acc: 0.9312\n",
      "Epoch 9/50\n",
      "26270/26270 [==============================] - 0s 9us/sample - loss: 0.2089 - acc: 0.9528 - val_loss: 0.2439 - val_acc: 0.9354\n",
      "Epoch 10/50\n",
      "26270/26270 [==============================] - 0s 10us/sample - loss: 0.1907 - acc: 0.9565 - val_loss: 0.2298 - val_acc: 0.9395\n",
      "Epoch 11/50\n",
      "26270/26270 [==============================] - 0s 8us/sample - loss: 0.1751 - acc: 0.9617 - val_loss: 0.2218 - val_acc: 0.9401\n",
      "Epoch 12/50\n",
      "26270/26270 [==============================] - 0s 10us/sample - loss: 0.1623 - acc: 0.9643 - val_loss: 0.2092 - val_acc: 0.9429\n",
      "Epoch 13/50\n",
      "26270/26270 [==============================] - 0s 8us/sample - loss: 0.1517 - acc: 0.9664 - val_loss: 0.1989 - val_acc: 0.9472\n",
      "Epoch 14/50\n",
      "26270/26270 [==============================] - 0s 9us/sample - loss: 0.1428 - acc: 0.9692 - val_loss: 0.1946 - val_acc: 0.9482\n",
      "Epoch 15/50\n",
      "26270/26270 [==============================] - 0s 8us/sample - loss: 0.1334 - acc: 0.9720 - val_loss: 0.1825 - val_acc: 0.9518\n",
      "Epoch 16/50\n",
      "26270/26270 [==============================] - 0s 8us/sample - loss: 0.1266 - acc: 0.9715 - val_loss: 0.1769 - val_acc: 0.9508\n",
      "Epoch 17/50\n",
      "26270/26270 [==============================] - 0s 8us/sample - loss: 0.1190 - acc: 0.9748 - val_loss: 0.1760 - val_acc: 0.9496\n",
      "Epoch 18/50\n",
      "26270/26270 [==============================] - 0s 10us/sample - loss: 0.1136 - acc: 0.9755 - val_loss: 0.1694 - val_acc: 0.9530\n",
      "Epoch 19/50\n",
      "26270/26270 [==============================] - 0s 9us/sample - loss: 0.1079 - acc: 0.9768 - val_loss: 0.1638 - val_acc: 0.9539\n",
      "Epoch 20/50\n",
      "26270/26270 [==============================] - 0s 8us/sample - loss: 0.1037 - acc: 0.9772 - val_loss: 0.1637 - val_acc: 0.9528\n",
      "Epoch 21/50\n",
      "26270/26270 [==============================] - 0s 8us/sample - loss: 0.0991 - acc: 0.9783 - val_loss: 0.1556 - val_acc: 0.9551\n",
      "Epoch 22/50\n",
      "26270/26270 [==============================] - 0s 9us/sample - loss: 0.0953 - acc: 0.9797 - val_loss: 0.1548 - val_acc: 0.9545\n",
      "Epoch 23/50\n",
      "26270/26270 [==============================] - 0s 10us/sample - loss: 0.0919 - acc: 0.9799 - val_loss: 0.1500 - val_acc: 0.9563\n",
      "Epoch 24/50\n",
      "26270/26270 [==============================] - 0s 11us/sample - loss: 0.0883 - acc: 0.9812 - val_loss: 0.1491 - val_acc: 0.9565\n",
      "Epoch 25/50\n",
      "26270/26270 [==============================] - 0s 9us/sample - loss: 0.0857 - acc: 0.9810 - val_loss: 0.1487 - val_acc: 0.9566\n",
      "Epoch 26/50\n",
      "26270/26270 [==============================] - 0s 9us/sample - loss: 0.0826 - acc: 0.9812 - val_loss: 0.1447 - val_acc: 0.9561\n",
      "Epoch 27/50\n",
      "26270/26270 [==============================] - 0s 9us/sample - loss: 0.0802 - acc: 0.9815 - val_loss: 0.1410 - val_acc: 0.9585\n",
      "Epoch 28/50\n",
      "26270/26270 [==============================] - 0s 9us/sample - loss: 0.0769 - acc: 0.9832 - val_loss: 0.1477 - val_acc: 0.9547\n",
      "Epoch 29/50\n",
      "26270/26270 [==============================] - 0s 8us/sample - loss: 0.0744 - acc: 0.9832 - val_loss: 0.1374 - val_acc: 0.9580\n",
      "Epoch 30/50\n",
      "26270/26270 [==============================] - 0s 9us/sample - loss: 0.0723 - acc: 0.9841 - val_loss: 0.1360 - val_acc: 0.9599\n",
      "Epoch 31/50\n",
      "26270/26270 [==============================] - 0s 8us/sample - loss: 0.0701 - acc: 0.9846 - val_loss: 0.1351 - val_acc: 0.9589\n",
      "Epoch 32/50\n",
      "26270/26270 [==============================] - 0s 8us/sample - loss: 0.0681 - acc: 0.9847 - val_loss: 0.1349 - val_acc: 0.9600\n",
      "Epoch 33/50\n",
      "26270/26270 [==============================] - 0s 8us/sample - loss: 0.0672 - acc: 0.9845 - val_loss: 0.1379 - val_acc: 0.9573\n",
      "Epoch 34/50\n",
      "26270/26270 [==============================] - 0s 8us/sample - loss: 0.0644 - acc: 0.9855 - val_loss: 0.1340 - val_acc: 0.9586\n",
      "Epoch 35/50\n",
      "26270/26270 [==============================] - 0s 9us/sample - loss: 0.0634 - acc: 0.9860 - val_loss: 0.1318 - val_acc: 0.9596\n",
      "Epoch 36/50\n",
      "26270/26270 [==============================] - 0s 8us/sample - loss: 0.0606 - acc: 0.9872 - val_loss: 0.1295 - val_acc: 0.9609\n",
      "Epoch 37/50\n",
      "26270/26270 [==============================] - 0s 8us/sample - loss: 0.0604 - acc: 0.9863 - val_loss: 0.1311 - val_acc: 0.9598\n",
      "Epoch 38/50\n",
      "26270/26270 [==============================] - 0s 8us/sample - loss: 0.0591 - acc: 0.9866 - val_loss: 0.1317 - val_acc: 0.9594\n",
      "Epoch 39/50\n",
      "26270/26270 [==============================] - 0s 9us/sample - loss: 0.0572 - acc: 0.9876 - val_loss: 0.1264 - val_acc: 0.9610\n",
      "Epoch 40/50\n",
      "26270/26270 [==============================] - 0s 9us/sample - loss: 0.0551 - acc: 0.9881 - val_loss: 0.1298 - val_acc: 0.9591\n",
      "Epoch 41/50\n",
      "26270/26270 [==============================] - 0s 10us/sample - loss: 0.0550 - acc: 0.9875 - val_loss: 0.1273 - val_acc: 0.9597\n",
      "Epoch 42/50\n",
      "26270/26270 [==============================] - 0s 10us/sample - loss: 0.0528 - acc: 0.9882 - val_loss: 0.1280 - val_acc: 0.9606\n",
      "Epoch 43/50\n",
      "26270/26270 [==============================] - 0s 11us/sample - loss: 0.0528 - acc: 0.9889 - val_loss: 0.1283 - val_acc: 0.9602\n",
      "Epoch 44/50\n",
      "26270/26270 [==============================] - 0s 10us/sample - loss: 0.0510 - acc: 0.9889 - val_loss: 0.1263 - val_acc: 0.9594\n",
      "Epoch 45/50\n",
      "26270/26270 [==============================] - 0s 9us/sample - loss: 0.0503 - acc: 0.9888 - val_loss: 0.1254 - val_acc: 0.9600\n",
      "Epoch 46/50\n",
      "26270/26270 [==============================] - 0s 10us/sample - loss: 0.0497 - acc: 0.9887 - val_loss: 0.1252 - val_acc: 0.9607\n",
      "Epoch 47/50\n",
      "26270/26270 [==============================] - 0s 10us/sample - loss: 0.0478 - acc: 0.9892 - val_loss: 0.1284 - val_acc: 0.9600\n",
      "Epoch 48/50\n",
      "26270/26270 [==============================] - 0s 10us/sample - loss: 0.0469 - acc: 0.9897 - val_loss: 0.1249 - val_acc: 0.9600\n",
      "Epoch 49/50\n",
      "26270/26270 [==============================] - 0s 10us/sample - loss: 0.0460 - acc: 0.9895 - val_loss: 0.1245 - val_acc: 0.9605\n",
      "Epoch 50/50\n",
      "26270/26270 [==============================] - 0s 10us/sample - loss: 0.0449 - acc: 0.9904 - val_loss: 0.1229 - val_acc: 0.9607\n"
     ]
    }
   ],
   "source": [
    "#training the model\n",
    "model.compile(optimizer='adam', loss=tf.keras.losses.sparse_categorical_crossentropy, metrics= ['accuracy'])\n",
    "history = model.fit(X_train, y_train, batch_size,epochs, validation_data=(X_val, y_val),shuffle=True)\n",
    "\n"
   ]
  },
  {
   "cell_type": "code",
   "execution_count": null,
   "id": "ab27a9a3-e7de-436b-8d06-3bd8915e8899",
   "metadata": {},
   "outputs": [],
   "source": []
  }
 ],
 "metadata": {
  "kernelspec": {
   "display_name": "Python 3 (ipykernel)",
   "language": "python",
   "name": "python3"
  },
  "language_info": {
   "codemirror_mode": {
    "name": "ipython",
    "version": 3
   },
   "file_extension": ".py",
   "mimetype": "text/x-python",
   "name": "python",
   "nbconvert_exporter": "python",
   "pygments_lexer": "ipython3",
   "version": "3.8.16"
  }
 },
 "nbformat": 4,
 "nbformat_minor": 5
}
