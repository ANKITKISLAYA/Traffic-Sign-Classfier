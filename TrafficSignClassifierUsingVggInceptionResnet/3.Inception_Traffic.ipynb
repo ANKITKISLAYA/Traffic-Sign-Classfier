{
 "cells": [
  {
   "cell_type": "markdown",
   "id": "b89c4675-a833-4e81-a2bc-7b0f914baf0d",
   "metadata": {},
   "source": [
    "#### Using Bottleneck features of Inception for feature extraction"
   ]
  },
  {
   "cell_type": "code",
   "execution_count": null,
   "id": "d1c7121b-fdef-423e-9d60-f1d2616755b9",
   "metadata": {},
   "outputs": [],
   "source": []
  },
  {
   "cell_type": "markdown",
   "id": "8acb75c8-5261-446c-abef-280af2952b09",
   "metadata": {},
   "source": [
    "#### Exploring our inception_traffic_bottleneck_features_train.p and inception_traffic_bottleneck_features_validation.p"
   ]
  },
  {
   "cell_type": "code",
   "execution_count": 1,
   "id": "c00a8bb9-f691-415e-871c-d927fdc3146b",
   "metadata": {},
   "outputs": [],
   "source": [
    "import pickle\n",
    "import collections, numpy as np\n",
    "\n",
    "training_file = \"vgg_traffic_bottleneck_features_train.p\"\n",
    "validation_file = \"vgg_traffic_bottleneck_features_validation.p\"\n",
    "\n",
    "with open(training_file, 'rb') as f:\n",
    "    train_data = pickle.load(f)\n",
    "with open(validation_file, 'rb') as f:\n",
    "    validation_data = pickle.load(f)"
   ]
  },
  {
   "cell_type": "code",
   "execution_count": 2,
   "id": "197f68e4-5b4a-4dba-b950-917a06dae9e5",
   "metadata": {},
   "outputs": [
    {
     "name": "stdout",
     "output_type": "stream",
     "text": [
      "Training Bottleneck features shape :- (26270, 1, 1, 512)\n",
      "Training Bottleneck labels shape :- (26270,)\n",
      "Validation Bottleneck features shape :- (12939, 1, 1, 512)\n",
      "Validation Bottleneck labels shape :- (12939,)\n",
      "Unique Classes :- [ 0  1  2  3  4  5  6  7  8  9 10 11 12 13 14 15 16 17 18 19 20 21 22 23\n",
      " 24 25 26 27 28 29 30 31 32 33 34 35 36 37 38 39 40 41 42]\n",
      "Number of Examples in each Class :- Counter({2: 1519, 1: 1487, 12: 1440, 13: 1425, 38: 1357, 10: 1345, 4: 1318, 5: 1244, 9: 1006, 25: 973, 8: 966, 3: 944, 7: 939, 11: 867, 18: 845, 35: 838, 17: 746, 31: 516, 14: 492, 33: 489, 15: 419, 26: 408, 28: 337, 23: 335, 34: 297, 30: 296, 16: 277, 6: 273, 36: 269, 22: 267, 20: 239, 40: 237, 21: 229, 39: 199, 29: 173, 32: 173, 42: 172, 24: 168, 41: 166, 27: 156, 19: 152, 0: 139, 37: 133})\n"
     ]
    }
   ],
   "source": [
    "print(\"Training Bottleneck features shape :-\",train_data['features'].shape)\n",
    "print(\"Training Bottleneck labels shape :-\",train_data['labels'].shape)\n",
    "print(\"Validation Bottleneck features shape :-\",validation_data['features'].shape)\n",
    "print(\"Validation Bottleneck labels shape :-\",validation_data['labels'].shape)\n",
    "print(\"Unique Classes :-\", np.unique(train_data['labels']))\n",
    "labels = train_data['labels'].reshape(train_data['labels'].shape[0])\n",
    "counter = collections.Counter(labels)\n",
    "print(\"Number of Examples in each Class :-\", counter)"
   ]
  },
  {
   "cell_type": "markdown",
   "id": "c7c81aa8-7f4c-47f0-b7a6-abcbba143983",
   "metadata": {},
   "source": [
    "#### Importing Necessary Packages"
   ]
  },
  {
   "cell_type": "code",
   "execution_count": 3,
   "id": "562bd8da-4069-417b-9f6d-5d088613357e",
   "metadata": {},
   "outputs": [
    {
     "name": "stdout",
     "output_type": "stream",
     "text": [
      "WARNING:tensorflow:From C:\\Users\\akislaya\\Anaconda3\\envs\\IntroToTensorFlow\\lib\\site-packages\\tensorflow\\python\\compat\\v2_compat.py:107: disable_resource_variables (from tensorflow.python.ops.variable_scope) is deprecated and will be removed in a future version.\n",
      "Instructions for updating:\n",
      "non-resource variables are not supported in the long term\n"
     ]
    }
   ],
   "source": [
    "import pickle\n",
    "import tensorflow.compat.v1 as tf\n",
    "tf.disable_v2_behavior()\n",
    "from keras.models import Sequential\n",
    "import numpy as np\n"
   ]
  },
  {
   "cell_type": "markdown",
   "id": "f7563295-75af-4a3a-9396-2299ff1d9eae",
   "metadata": {},
   "source": [
    "#### Function to extract and load bottleneck data from training_file and validation_file"
   ]
  },
  {
   "cell_type": "code",
   "execution_count": 4,
   "id": "f1571718-d154-4769-8658-4ae9d86b96a4",
   "metadata": {},
   "outputs": [],
   "source": [
    "def load_bottleneck_data(training_file, validation_file):\n",
    "    \"\"\"\n",
    "    Utility function to load bottleneck features.\n",
    "\n",
    "    Arguments:\n",
    "        training_file - String\n",
    "        validation_file - String\n",
    "    \"\"\"\n",
    "    print(\"Training file\", training_file)\n",
    "    print(\"Validation file\", validation_file)\n",
    "\n",
    "    with open(training_file, 'rb') as f:\n",
    "        train_data = pickle.load(f)\n",
    "    with open(validation_file, 'rb') as f:\n",
    "        validation_data = pickle.load(f)\n",
    "\n",
    "    X_train = train_data['features']\n",
    "    y_train = train_data['labels']\n",
    "    X_val = validation_data['features']\n",
    "    y_val = validation_data['labels']\n",
    "\n",
    "    return X_train, y_train, X_val, y_val\n",
    "\n"
   ]
  },
  {
   "cell_type": "markdown",
   "id": "da185651-0f5e-4f08-8505-c292e956d269",
   "metadata": {},
   "source": [
    "#### Building and Training the model"
   ]
  },
  {
   "cell_type": "code",
   "execution_count": 5,
   "id": "d68b7a41-2ba9-4edb-ae83-4fe863398b01",
   "metadata": {},
   "outputs": [
    {
     "name": "stdout",
     "output_type": "stream",
     "text": [
      "Training file vgg_traffic_bottleneck_features_train.p\n",
      "Validation file vgg_traffic_bottleneck_features_validation.p\n",
      "(26270, 1, 1, 512) (26270,)\n",
      "(12939, 1, 1, 512) (12939,)\n",
      "Model: \"sequential\"\n",
      "_________________________________________________________________\n",
      " Layer (type)                Output Shape              Param #   \n",
      "=================================================================\n",
      " flatten (Flatten)           (None, 512)               0         \n",
      "                                                                 \n",
      " dense (Dense)               (None, 43)                22059     \n",
      "                                                                 \n",
      "=================================================================\n",
      "Total params: 22,059\n",
      "Trainable params: 22,059\n",
      "Non-trainable params: 0\n",
      "_________________________________________________________________\n"
     ]
    }
   ],
   "source": [
    "training_file = \"vgg_traffic_bottleneck_features_train.p\"\n",
    "validation_file = \"vgg_traffic_bottleneck_features_validation.p\"\n",
    "\n",
    "# load bottleneck data\n",
    "X_train, y_train, X_val, y_val = load_bottleneck_data(training_file, validation_file)\n",
    "\n",
    "print(X_train.shape, y_train.shape)\n",
    "print(X_val.shape, y_val.shape)\n",
    "\n",
    "# defining number of classes and hyperparams below\n",
    "n_classes = len(np.unique(y_train))\n",
    "learning_rate = 0.01\n",
    "batch_size = 256\n",
    "epochs = 50\n",
    "    \n",
    "# Building the model \n",
    "input_shape = X_train.shape[1:]\n",
    "\n",
    "model = tf.keras.Sequential()\n",
    "model.add(tf.keras.Input(shape=input_shape))\n",
    "model.add(tf.keras.layers.Flatten())\n",
    "model.add(tf.keras.layers.Dense(n_classes,activation='softmax'))\n",
    "\n",
    "model.summary()\n",
    "\n"
   ]
  },
  {
   "cell_type": "code",
   "execution_count": 6,
   "id": "a5c75f33-3d53-466a-82dd-d8ffffff9f5b",
   "metadata": {},
   "outputs": [
    {
     "name": "stdout",
     "output_type": "stream",
     "text": [
      "Train on 26270 samples, validate on 12939 samples\n",
      "Epoch 1/50\n",
      "26270/26270 [==============================] - 0s 16us/sample - loss: 2.5854 - acc: 0.3845 - val_loss: 1.1463 - val_acc: 0.6533\n",
      "Epoch 2/50\n",
      " 8192/26270 [========>.....................] - ETA: 0s - loss: 1.0341 - acc: 0.6906"
     ]
    },
    {
     "name": "stderr",
     "output_type": "stream",
     "text": [
      "C:\\Users\\akislaya\\Anaconda3\\envs\\IntroToTensorFlow\\lib\\site-packages\\keras\\engine\\training_v1.py:2332: UserWarning: `Model.state_updates` will be removed in a future version. This property should not be used in TensorFlow 2.0, as `updates` are applied automatically.\n",
      "  updates = self.state_updates\n"
     ]
    },
    {
     "name": "stdout",
     "output_type": "stream",
     "text": [
      "26270/26270 [==============================] - 0s 10us/sample - loss: 0.8681 - acc: 0.7450 - val_loss: 0.6827 - val_acc: 0.8043\n",
      "Epoch 3/50\n",
      "26270/26270 [==============================] - 0s 10us/sample - loss: 0.5653 - acc: 0.8455 - val_loss: 0.5098 - val_acc: 0.8619\n",
      "Epoch 4/50\n",
      "26270/26270 [==============================] - 0s 9us/sample - loss: 0.4291 - acc: 0.8892 - val_loss: 0.4260 - val_acc: 0.8869\n",
      "Epoch 5/50\n",
      "26270/26270 [==============================] - 0s 10us/sample - loss: 0.3492 - acc: 0.9128 - val_loss: 0.3605 - val_acc: 0.9028\n",
      "Epoch 6/50\n",
      "26270/26270 [==============================] - 0s 10us/sample - loss: 0.2963 - acc: 0.9289 - val_loss: 0.3186 - val_acc: 0.9147\n",
      "Epoch 7/50\n",
      "26270/26270 [==============================] - 0s 10us/sample - loss: 0.2598 - acc: 0.9381 - val_loss: 0.2891 - val_acc: 0.9240\n",
      "Epoch 8/50\n",
      "26270/26270 [==============================] - 0s 10us/sample - loss: 0.2299 - acc: 0.9468 - val_loss: 0.2658 - val_acc: 0.9300\n",
      "Epoch 9/50\n",
      "26270/26270 [==============================] - 0s 9us/sample - loss: 0.2070 - acc: 0.9533 - val_loss: 0.2490 - val_acc: 0.9350\n",
      "Epoch 10/50\n",
      "26270/26270 [==============================] - 0s 10us/sample - loss: 0.1887 - acc: 0.9585 - val_loss: 0.2282 - val_acc: 0.9403\n",
      "Epoch 11/50\n",
      "26270/26270 [==============================] - 0s 9us/sample - loss: 0.1731 - acc: 0.9611 - val_loss: 0.2217 - val_acc: 0.9404\n",
      "Epoch 12/50\n",
      "26270/26270 [==============================] - 0s 9us/sample - loss: 0.1613 - acc: 0.9644 - val_loss: 0.2097 - val_acc: 0.9433\n",
      "Epoch 13/50\n",
      "26270/26270 [==============================] - 0s 10us/sample - loss: 0.1503 - acc: 0.9667 - val_loss: 0.1971 - val_acc: 0.9478\n",
      "Epoch 14/50\n",
      "26270/26270 [==============================] - 0s 11us/sample - loss: 0.1396 - acc: 0.9693 - val_loss: 0.1901 - val_acc: 0.9499\n",
      "Epoch 15/50\n",
      "26270/26270 [==============================] - 0s 9us/sample - loss: 0.1315 - acc: 0.9708 - val_loss: 0.1864 - val_acc: 0.9485\n",
      "Epoch 16/50\n",
      "26270/26270 [==============================] - 0s 10us/sample - loss: 0.1258 - acc: 0.9721 - val_loss: 0.1793 - val_acc: 0.9519\n",
      "Epoch 17/50\n",
      "26270/26270 [==============================] - 0s 9us/sample - loss: 0.1182 - acc: 0.9736 - val_loss: 0.1735 - val_acc: 0.9522\n",
      "Epoch 18/50\n",
      "26270/26270 [==============================] - 0s 9us/sample - loss: 0.1136 - acc: 0.9746 - val_loss: 0.1687 - val_acc: 0.9539\n",
      "Epoch 19/50\n",
      "26270/26270 [==============================] - 0s 10us/sample - loss: 0.1069 - acc: 0.9760 - val_loss: 0.1640 - val_acc: 0.9542\n",
      "Epoch 20/50\n",
      "26270/26270 [==============================] - 0s 10us/sample - loss: 0.1028 - acc: 0.9773 - val_loss: 0.1606 - val_acc: 0.9546\n",
      "Epoch 21/50\n",
      "26270/26270 [==============================] - 0s 10us/sample - loss: 0.0989 - acc: 0.9778 - val_loss: 0.1580 - val_acc: 0.9543\n",
      "Epoch 22/50\n",
      "26270/26270 [==============================] - 0s 10us/sample - loss: 0.0947 - acc: 0.9796 - val_loss: 0.1554 - val_acc: 0.9539\n",
      "Epoch 23/50\n",
      "26270/26270 [==============================] - 0s 10us/sample - loss: 0.0917 - acc: 0.9798 - val_loss: 0.1552 - val_acc: 0.9546\n",
      "Epoch 24/50\n",
      "26270/26270 [==============================] - 0s 10us/sample - loss: 0.0884 - acc: 0.9796 - val_loss: 0.1493 - val_acc: 0.9567\n",
      "Epoch 25/50\n",
      "26270/26270 [==============================] - 0s 10us/sample - loss: 0.0844 - acc: 0.9812 - val_loss: 0.1492 - val_acc: 0.9569\n",
      "Epoch 26/50\n",
      "26270/26270 [==============================] - 0s 9us/sample - loss: 0.0818 - acc: 0.9811 - val_loss: 0.1471 - val_acc: 0.9567\n",
      "Epoch 27/50\n",
      "26270/26270 [==============================] - 0s 9us/sample - loss: 0.0791 - acc: 0.9823 - val_loss: 0.1430 - val_acc: 0.9577\n",
      "Epoch 28/50\n",
      "26270/26270 [==============================] - 0s 10us/sample - loss: 0.0761 - acc: 0.9828 - val_loss: 0.1402 - val_acc: 0.9576\n",
      "Epoch 29/50\n",
      "26270/26270 [==============================] - 0s 10us/sample - loss: 0.0740 - acc: 0.9837 - val_loss: 0.1442 - val_acc: 0.9552\n",
      "Epoch 30/50\n",
      "26270/26270 [==============================] - 0s 11us/sample - loss: 0.0721 - acc: 0.9840 - val_loss: 0.1394 - val_acc: 0.9574\n",
      "Epoch 31/50\n",
      "26270/26270 [==============================] - 0s 8us/sample - loss: 0.0707 - acc: 0.9837 - val_loss: 0.1357 - val_acc: 0.9597\n",
      "Epoch 32/50\n",
      "26270/26270 [==============================] - 0s 9us/sample - loss: 0.0674 - acc: 0.9850 - val_loss: 0.1334 - val_acc: 0.9600\n",
      "Epoch 33/50\n",
      "26270/26270 [==============================] - 0s 8us/sample - loss: 0.0664 - acc: 0.9846 - val_loss: 0.1346 - val_acc: 0.9594\n",
      "Epoch 34/50\n",
      "26270/26270 [==============================] - 0s 9us/sample - loss: 0.0642 - acc: 0.9849 - val_loss: 0.1328 - val_acc: 0.9593\n",
      "Epoch 35/50\n",
      "26270/26270 [==============================] - 0s 8us/sample - loss: 0.0622 - acc: 0.9859 - val_loss: 0.1314 - val_acc: 0.9596\n",
      "Epoch 36/50\n",
      "26270/26270 [==============================] - 0s 9us/sample - loss: 0.0603 - acc: 0.9867 - val_loss: 0.1310 - val_acc: 0.9592\n",
      "Epoch 37/50\n",
      "26270/26270 [==============================] - 0s 9us/sample - loss: 0.0594 - acc: 0.9869 - val_loss: 0.1301 - val_acc: 0.9606\n",
      "Epoch 38/50\n",
      "26270/26270 [==============================] - 0s 9us/sample - loss: 0.0580 - acc: 0.9869 - val_loss: 0.1320 - val_acc: 0.9590\n",
      "Epoch 39/50\n",
      "26270/26270 [==============================] - 0s 9us/sample - loss: 0.0571 - acc: 0.9871 - val_loss: 0.1294 - val_acc: 0.9602\n",
      "Epoch 40/50\n",
      "26270/26270 [==============================] - 0s 9us/sample - loss: 0.0559 - acc: 0.9867 - val_loss: 0.1293 - val_acc: 0.9609\n",
      "Epoch 41/50\n",
      "26270/26270 [==============================] - 0s 9us/sample - loss: 0.0548 - acc: 0.9873 - val_loss: 0.1279 - val_acc: 0.9603\n",
      "Epoch 42/50\n",
      "26270/26270 [==============================] - 0s 9us/sample - loss: 0.0538 - acc: 0.9872 - val_loss: 0.1272 - val_acc: 0.9602\n",
      "Epoch 43/50\n",
      "26270/26270 [==============================] - 0s 11us/sample - loss: 0.0521 - acc: 0.9879 - val_loss: 0.1280 - val_acc: 0.9591\n",
      "Epoch 44/50\n",
      "26270/26270 [==============================] - 0s 10us/sample - loss: 0.0511 - acc: 0.9881 - val_loss: 0.1282 - val_acc: 0.9598\n",
      "Epoch 45/50\n",
      "26270/26270 [==============================] - 0s 10us/sample - loss: 0.0503 - acc: 0.9888 - val_loss: 0.1272 - val_acc: 0.9597\n",
      "Epoch 46/50\n",
      "26270/26270 [==============================] - 0s 11us/sample - loss: 0.0487 - acc: 0.9886 - val_loss: 0.1253 - val_acc: 0.9609\n",
      "Epoch 47/50\n",
      "26270/26270 [==============================] - 0s 11us/sample - loss: 0.0477 - acc: 0.9889 - val_loss: 0.1265 - val_acc: 0.9614\n",
      "Epoch 48/50\n",
      "26270/26270 [==============================] - 0s 11us/sample - loss: 0.0464 - acc: 0.9898 - val_loss: 0.1263 - val_acc: 0.9589\n",
      "Epoch 49/50\n",
      "26270/26270 [==============================] - 0s 10us/sample - loss: 0.0462 - acc: 0.9896 - val_loss: 0.1281 - val_acc: 0.9594\n",
      "Epoch 50/50\n",
      "26270/26270 [==============================] - 0s 10us/sample - loss: 0.0463 - acc: 0.9890 - val_loss: 0.1239 - val_acc: 0.9619\n"
     ]
    }
   ],
   "source": [
    "#training the model\n",
    "model.compile(optimizer='adam', loss=tf.keras.losses.sparse_categorical_crossentropy, metrics= ['accuracy'])\n",
    "history = model.fit(X_train, y_train, batch_size,epochs, validation_data=(X_val, y_val),shuffle=True)\n",
    "\n"
   ]
  },
  {
   "cell_type": "code",
   "execution_count": null,
   "id": "ab27a9a3-e7de-436b-8d06-3bd8915e8899",
   "metadata": {},
   "outputs": [],
   "source": []
  }
 ],
 "metadata": {
  "kernelspec": {
   "display_name": "Python 3 (ipykernel)",
   "language": "python",
   "name": "python3"
  },
  "language_info": {
   "codemirror_mode": {
    "name": "ipython",
    "version": 3
   },
   "file_extension": ".py",
   "mimetype": "text/x-python",
   "name": "python",
   "nbconvert_exporter": "python",
   "pygments_lexer": "ipython3",
   "version": "3.8.16"
  }
 },
 "nbformat": 4,
 "nbformat_minor": 5
}
