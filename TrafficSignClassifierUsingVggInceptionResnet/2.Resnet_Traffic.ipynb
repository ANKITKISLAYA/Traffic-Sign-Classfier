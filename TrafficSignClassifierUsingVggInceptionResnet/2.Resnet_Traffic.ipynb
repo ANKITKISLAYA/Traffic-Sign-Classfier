{
 "cells": [
  {
   "cell_type": "markdown",
   "id": "b89c4675-a833-4e81-a2bc-7b0f914baf0d",
   "metadata": {},
   "source": [
    "#### Using Bottleneck features of Resnet for feature extraction"
   ]
  },
  {
   "cell_type": "code",
   "execution_count": null,
   "id": "d1c7121b-fdef-423e-9d60-f1d2616755b9",
   "metadata": {},
   "outputs": [],
   "source": []
  },
  {
   "cell_type": "markdown",
   "id": "8acb75c8-5261-446c-abef-280af2952b09",
   "metadata": {},
   "source": [
    "#### Exploring our resnet_traffic_bottleneck_features_train.p and resnet_traffic_bottleneck_features_validation.p"
   ]
  },
  {
   "cell_type": "code",
   "execution_count": 1,
   "id": "c00a8bb9-f691-415e-871c-d927fdc3146b",
   "metadata": {},
   "outputs": [],
   "source": [
    "import pickle\n",
    "import collections, numpy as np\n",
    "\n",
    "training_file = \"Resnet_traffic_bottleneck_features_train.p\"\n",
    "validation_file = \"Resnet_traffic_bottleneck_features_validation.p\"\n",
    "\n",
    "with open(training_file, 'rb') as f:\n",
    "    train_data = pickle.load(f)\n",
    "with open(validation_file, 'rb') as f:\n",
    "    validation_data = pickle.load(f)"
   ]
  },
  {
   "cell_type": "code",
   "execution_count": 2,
   "id": "197f68e4-5b4a-4dba-b950-917a06dae9e5",
   "metadata": {},
   "outputs": [
    {
     "name": "stdout",
     "output_type": "stream",
     "text": [
      "Training Bottleneck features shape :- (26270, 1, 1, 2048)\n",
      "Training Bottleneck labels shape :- (26270,)\n",
      "Validation Bottleneck features shape :- (12939, 1, 1, 2048)\n",
      "Validation Bottleneck labels shape :- (12939,)\n",
      "Unique Classes :- [ 0  1  2  3  4  5  6  7  8  9 10 11 12 13 14 15 16 17 18 19 20 21 22 23\n",
      " 24 25 26 27 28 29 30 31 32 33 34 35 36 37 38 39 40 41 42]\n",
      "Number of Examples in each Class :- Counter({2: 1519, 1: 1487, 12: 1440, 13: 1425, 38: 1357, 10: 1345, 4: 1318, 5: 1244, 9: 1006, 25: 973, 8: 966, 3: 944, 7: 939, 11: 867, 18: 845, 35: 838, 17: 746, 31: 516, 14: 492, 33: 489, 15: 419, 26: 408, 28: 337, 23: 335, 34: 297, 30: 296, 16: 277, 6: 273, 36: 269, 22: 267, 20: 239, 40: 237, 21: 229, 39: 199, 29: 173, 32: 173, 42: 172, 24: 168, 41: 166, 27: 156, 19: 152, 0: 139, 37: 133})\n"
     ]
    }
   ],
   "source": [
    "print(\"Training Bottleneck features shape :-\",train_data['features'].shape)\n",
    "print(\"Training Bottleneck labels shape :-\",train_data['labels'].shape)\n",
    "print(\"Validation Bottleneck features shape :-\",validation_data['features'].shape)\n",
    "print(\"Validation Bottleneck labels shape :-\",validation_data['labels'].shape)\n",
    "print(\"Unique Classes :-\", np.unique(train_data['labels']))\n",
    "labels = train_data['labels'].reshape(train_data['labels'].shape[0])\n",
    "counter = collections.Counter(labels)\n",
    "print(\"Number of Examples in each Class :-\", counter)"
   ]
  },
  {
   "cell_type": "markdown",
   "id": "c7c81aa8-7f4c-47f0-b7a6-abcbba143983",
   "metadata": {},
   "source": [
    "#### Importing Necessary Packages"
   ]
  },
  {
   "cell_type": "code",
   "execution_count": 3,
   "id": "562bd8da-4069-417b-9f6d-5d088613357e",
   "metadata": {},
   "outputs": [
    {
     "name": "stdout",
     "output_type": "stream",
     "text": [
      "WARNING:tensorflow:From C:\\Users\\akislaya\\Anaconda3\\envs\\IntroToTensorFlow\\lib\\site-packages\\tensorflow\\python\\compat\\v2_compat.py:107: disable_resource_variables (from tensorflow.python.ops.variable_scope) is deprecated and will be removed in a future version.\n",
      "Instructions for updating:\n",
      "non-resource variables are not supported in the long term\n"
     ]
    }
   ],
   "source": [
    "import pickle\n",
    "import tensorflow.compat.v1 as tf\n",
    "tf.disable_v2_behavior()\n",
    "from keras.models import Sequential\n",
    "import numpy as np\n"
   ]
  },
  {
   "cell_type": "markdown",
   "id": "f7563295-75af-4a3a-9396-2299ff1d9eae",
   "metadata": {},
   "source": [
    "#### Function to extract and load bottleneck data from training_file and validation_file"
   ]
  },
  {
   "cell_type": "code",
   "execution_count": 4,
   "id": "f1571718-d154-4769-8658-4ae9d86b96a4",
   "metadata": {},
   "outputs": [],
   "source": [
    "def load_bottleneck_data(training_file, validation_file):\n",
    "    \"\"\"\n",
    "    Utility function to load bottleneck features.\n",
    "\n",
    "    Arguments:\n",
    "        training_file - String\n",
    "        validation_file - String\n",
    "    \"\"\"\n",
    "    print(\"Training file\", training_file)\n",
    "    print(\"Validation file\", validation_file)\n",
    "\n",
    "    with open(training_file, 'rb') as f:\n",
    "        train_data = pickle.load(f)\n",
    "    with open(validation_file, 'rb') as f:\n",
    "        validation_data = pickle.load(f)\n",
    "\n",
    "    X_train = train_data['features']\n",
    "    y_train = train_data['labels']\n",
    "    X_val = validation_data['features']\n",
    "    y_val = validation_data['labels']\n",
    "\n",
    "    return X_train, y_train, X_val, y_val\n",
    "\n"
   ]
  },
  {
   "cell_type": "markdown",
   "id": "da185651-0f5e-4f08-8505-c292e956d269",
   "metadata": {},
   "source": [
    "#### Building and Training the model"
   ]
  },
  {
   "cell_type": "code",
   "execution_count": 5,
   "id": "d68b7a41-2ba9-4edb-ae83-4fe863398b01",
   "metadata": {},
   "outputs": [
    {
     "name": "stdout",
     "output_type": "stream",
     "text": [
      "Training file Resnet_traffic_bottleneck_features_train.p\n",
      "Validation file Resnet_traffic_bottleneck_features_validation.p\n",
      "(26270, 1, 1, 2048) (26270,)\n",
      "(12939, 1, 1, 2048) (12939,)\n",
      "Model: \"sequential\"\n",
      "_________________________________________________________________\n",
      " Layer (type)                Output Shape              Param #   \n",
      "=================================================================\n",
      " flatten (Flatten)           (None, 2048)              0         \n",
      "                                                                 \n",
      " dense (Dense)               (None, 43)                88107     \n",
      "                                                                 \n",
      "=================================================================\n",
      "Total params: 88,107\n",
      "Trainable params: 88,107\n",
      "Non-trainable params: 0\n",
      "_________________________________________________________________\n"
     ]
    }
   ],
   "source": [
    "training_file = \"Resnet_traffic_bottleneck_features_train.p\"\n",
    "validation_file = \"Resnet_traffic_bottleneck_features_validation.p\"\n",
    "\n",
    "# load bottleneck data\n",
    "X_train, y_train, X_val, y_val = load_bottleneck_data(training_file, validation_file)\n",
    "\n",
    "print(X_train.shape, y_train.shape)\n",
    "print(X_val.shape, y_val.shape)\n",
    "\n",
    "# defining number of classes and hyperparams below\n",
    "n_classes = len(np.unique(y_train))\n",
    "learning_rate = 0.01\n",
    "batch_size = 256\n",
    "epochs = 50\n",
    "    \n",
    "# Building the model \n",
    "input_shape = X_train.shape[1:]\n",
    "\n",
    "model = tf.keras.Sequential()\n",
    "model.add(tf.keras.Input(shape=input_shape))\n",
    "model.add(tf.keras.layers.Flatten())\n",
    "model.add(tf.keras.layers.Dense(n_classes,activation='softmax'))\n",
    "\n",
    "model.summary()\n",
    "\n"
   ]
  },
  {
   "cell_type": "code",
   "execution_count": 6,
   "id": "a5c75f33-3d53-466a-82dd-d8ffffff9f5b",
   "metadata": {},
   "outputs": [
    {
     "name": "stdout",
     "output_type": "stream",
     "text": [
      "Train on 26270 samples, validate on 12939 samples\n",
      "Epoch 1/50\n",
      "24832/26270 [===========================>..] - ETA: 0s - loss: 1.6161 - acc: 0.5650"
     ]
    },
    {
     "name": "stderr",
     "output_type": "stream",
     "text": [
      "C:\\Users\\akislaya\\Anaconda3\\envs\\IntroToTensorFlow\\lib\\site-packages\\keras\\engine\\training_v1.py:2332: UserWarning: `Model.state_updates` will be removed in a future version. This property should not be used in TensorFlow 2.0, as `updates` are applied automatically.\n",
      "  updates = self.state_updates\n"
     ]
    },
    {
     "name": "stdout",
     "output_type": "stream",
     "text": [
      "26270/26270 [==============================] - 1s 25us/sample - loss: 1.5754 - acc: 0.5764 - val_loss: 0.8946 - val_acc: 0.7530\n",
      "Epoch 2/50\n",
      "26270/26270 [==============================] - 0s 19us/sample - loss: 0.6962 - acc: 0.8154 - val_loss: 0.6220 - val_acc: 0.8327\n",
      "Epoch 3/50\n",
      "26270/26270 [==============================] - 0s 17us/sample - loss: 0.4941 - acc: 0.8743 - val_loss: 0.5078 - val_acc: 0.8628\n",
      "Epoch 4/50\n",
      "26270/26270 [==============================] - 0s 18us/sample - loss: 0.3878 - acc: 0.9061 - val_loss: 0.4470 - val_acc: 0.8735\n",
      "Epoch 5/50\n",
      "26270/26270 [==============================] - 1s 20us/sample - loss: 0.3225 - acc: 0.9225 - val_loss: 0.3950 - val_acc: 0.8891\n",
      "Epoch 6/50\n",
      "26270/26270 [==============================] - 0s 18us/sample - loss: 0.2752 - acc: 0.9376 - val_loss: 0.3609 - val_acc: 0.8973\n",
      "Epoch 7/50\n",
      "26270/26270 [==============================] - 0s 18us/sample - loss: 0.2379 - acc: 0.9486 - val_loss: 0.3461 - val_acc: 0.8978\n",
      "Epoch 8/50\n",
      "26270/26270 [==============================] - 0s 19us/sample - loss: 0.2116 - acc: 0.9548 - val_loss: 0.3162 - val_acc: 0.9090\n",
      "Epoch 9/50\n",
      "26270/26270 [==============================] - 0s 18us/sample - loss: 0.1894 - acc: 0.9612 - val_loss: 0.3010 - val_acc: 0.9124\n",
      "Epoch 10/50\n",
      "26270/26270 [==============================] - 0s 18us/sample - loss: 0.1705 - acc: 0.9652 - val_loss: 0.2944 - val_acc: 0.9111\n",
      "Epoch 11/50\n",
      "26270/26270 [==============================] - 0s 17us/sample - loss: 0.1560 - acc: 0.9684 - val_loss: 0.2880 - val_acc: 0.9127\n",
      "Epoch 12/50\n",
      "26270/26270 [==============================] - 1s 20us/sample - loss: 0.1421 - acc: 0.9717 - val_loss: 0.2690 - val_acc: 0.9188\n",
      "Epoch 13/50\n",
      "26270/26270 [==============================] - 1s 19us/sample - loss: 0.1301 - acc: 0.9754 - val_loss: 0.2629 - val_acc: 0.9195\n",
      "Epoch 14/50\n",
      "26270/26270 [==============================] - 0s 18us/sample - loss: 0.1205 - acc: 0.9786 - val_loss: 0.2547 - val_acc: 0.9216\n",
      "Epoch 15/50\n",
      "26270/26270 [==============================] - 0s 19us/sample - loss: 0.1104 - acc: 0.9803 - val_loss: 0.2490 - val_acc: 0.9240\n",
      "Epoch 16/50\n",
      "26270/26270 [==============================] - 1s 20us/sample - loss: 0.1047 - acc: 0.9815 - val_loss: 0.2430 - val_acc: 0.9248\n",
      "Epoch 17/50\n",
      "26270/26270 [==============================] - 1s 20us/sample - loss: 0.0987 - acc: 0.9825 - val_loss: 0.2410 - val_acc: 0.9234\n",
      "Epoch 18/50\n",
      "26270/26270 [==============================] - 1s 20us/sample - loss: 0.0916 - acc: 0.9842 - val_loss: 0.2340 - val_acc: 0.9255\n",
      "Epoch 19/50\n",
      "26270/26270 [==============================] - 1s 19us/sample - loss: 0.0860 - acc: 0.9853 - val_loss: 0.2295 - val_acc: 0.9268\n",
      "Epoch 20/50\n",
      "26270/26270 [==============================] - 0s 18us/sample - loss: 0.0809 - acc: 0.9872 - val_loss: 0.2330 - val_acc: 0.9246\n",
      "Epoch 21/50\n",
      "26270/26270 [==============================] - 0s 17us/sample - loss: 0.0756 - acc: 0.9883 - val_loss: 0.2243 - val_acc: 0.9292\n",
      "Epoch 22/50\n",
      "26270/26270 [==============================] - 0s 17us/sample - loss: 0.0714 - acc: 0.9896 - val_loss: 0.2242 - val_acc: 0.9280\n",
      "Epoch 23/50\n",
      "26270/26270 [==============================] - 0s 18us/sample - loss: 0.0677 - acc: 0.9907 - val_loss: 0.2245 - val_acc: 0.9269\n",
      "Epoch 24/50\n",
      "26270/26270 [==============================] - 1s 22us/sample - loss: 0.0643 - acc: 0.9909 - val_loss: 0.2168 - val_acc: 0.9297\n",
      "Epoch 25/50\n",
      "26270/26270 [==============================] - 0s 18us/sample - loss: 0.0613 - acc: 0.9920 - val_loss: 0.2125 - val_acc: 0.9318\n",
      "Epoch 26/50\n",
      "26270/26270 [==============================] - 0s 18us/sample - loss: 0.0576 - acc: 0.9928 - val_loss: 0.2121 - val_acc: 0.9308\n",
      "Epoch 27/50\n",
      "26270/26270 [==============================] - 1s 22us/sample - loss: 0.0546 - acc: 0.9933 - val_loss: 0.2143 - val_acc: 0.9291\n",
      "Epoch 28/50\n",
      "26270/26270 [==============================] - 0s 19us/sample - loss: 0.0525 - acc: 0.9939 - val_loss: 0.2138 - val_acc: 0.9307\n",
      "Epoch 29/50\n",
      "26270/26270 [==============================] - 0s 18us/sample - loss: 0.0497 - acc: 0.9947 - val_loss: 0.2070 - val_acc: 0.9319\n",
      "Epoch 30/50\n",
      "26270/26270 [==============================] - 0s 17us/sample - loss: 0.0478 - acc: 0.9948 - val_loss: 0.2045 - val_acc: 0.9329\n",
      "Epoch 31/50\n",
      "26270/26270 [==============================] - 0s 18us/sample - loss: 0.0466 - acc: 0.9946 - val_loss: 0.2094 - val_acc: 0.9314\n",
      "Epoch 32/50\n",
      "26270/26270 [==============================] - 1s 19us/sample - loss: 0.0440 - acc: 0.9955 - val_loss: 0.2060 - val_acc: 0.9311\n",
      "Epoch 33/50\n",
      "26270/26270 [==============================] - 1s 19us/sample - loss: 0.0420 - acc: 0.9962 - val_loss: 0.2067 - val_acc: 0.9305\n",
      "Epoch 34/50\n",
      "26270/26270 [==============================] - 0s 19us/sample - loss: 0.0397 - acc: 0.9967 - val_loss: 0.2022 - val_acc: 0.9334\n",
      "Epoch 35/50\n",
      "26270/26270 [==============================] - 0s 18us/sample - loss: 0.0384 - acc: 0.9969 - val_loss: 0.2018 - val_acc: 0.9335\n",
      "Epoch 36/50\n",
      "26270/26270 [==============================] - 0s 18us/sample - loss: 0.0365 - acc: 0.9973 - val_loss: 0.2008 - val_acc: 0.9342\n",
      "Epoch 37/50\n",
      "26270/26270 [==============================] - 0s 19us/sample - loss: 0.0348 - acc: 0.9974 - val_loss: 0.2050 - val_acc: 0.9312\n",
      "Epoch 38/50\n",
      "26270/26270 [==============================] - 1s 19us/sample - loss: 0.0338 - acc: 0.9974 - val_loss: 0.2007 - val_acc: 0.9331\n",
      "Epoch 39/50\n",
      "26270/26270 [==============================] - 0s 18us/sample - loss: 0.0316 - acc: 0.9983 - val_loss: 0.2054 - val_acc: 0.9312\n",
      "Epoch 40/50\n",
      "26270/26270 [==============================] - 0s 17us/sample - loss: 0.0305 - acc: 0.9983 - val_loss: 0.1999 - val_acc: 0.9335\n",
      "Epoch 41/50\n",
      "26270/26270 [==============================] - 0s 17us/sample - loss: 0.0291 - acc: 0.9987 - val_loss: 0.1975 - val_acc: 0.9348\n",
      "Epoch 42/50\n",
      "26270/26270 [==============================] - 0s 17us/sample - loss: 0.0280 - acc: 0.9989 - val_loss: 0.1997 - val_acc: 0.9338\n",
      "Epoch 43/50\n",
      "26270/26270 [==============================] - 0s 19us/sample - loss: 0.0271 - acc: 0.9988 - val_loss: 0.1984 - val_acc: 0.9339\n",
      "Epoch 44/50\n",
      "26270/26270 [==============================] - 1s 19us/sample - loss: 0.0261 - acc: 0.9990 - val_loss: 0.1977 - val_acc: 0.9342\n",
      "Epoch 45/50\n",
      "26270/26270 [==============================] - 1s 29us/sample - loss: 0.0255 - acc: 0.9989 - val_loss: 0.1961 - val_acc: 0.9351\n",
      "Epoch 46/50\n",
      "26270/26270 [==============================] - 1s 25us/sample - loss: 0.0239 - acc: 0.9993 - val_loss: 0.1978 - val_acc: 0.9337\n",
      "Epoch 47/50\n",
      "26270/26270 [==============================] - 1s 24us/sample - loss: 0.0232 - acc: 0.9994 - val_loss: 0.1999 - val_acc: 0.9340\n",
      "Epoch 48/50\n",
      "26270/26270 [==============================] - 1s 20us/sample - loss: 0.0220 - acc: 0.9995 - val_loss: 0.1975 - val_acc: 0.9354\n",
      "Epoch 49/50\n",
      "26270/26270 [==============================] - 1s 20us/sample - loss: 0.0214 - acc: 0.9994 - val_loss: 0.1984 - val_acc: 0.9339\n",
      "Epoch 50/50\n",
      "26270/26270 [==============================] - 1s 20us/sample - loss: 0.0206 - acc: 0.9997 - val_loss: 0.1993 - val_acc: 0.9338\n"
     ]
    }
   ],
   "source": [
    "#training the model\n",
    "model.compile(optimizer='adam', loss=tf.keras.losses.sparse_categorical_crossentropy, metrics= ['accuracy'])\n",
    "history = model.fit(X_train, y_train, batch_size,epochs, validation_data=(X_val, y_val),shuffle=True)\n",
    "\n"
   ]
  },
  {
   "cell_type": "code",
   "execution_count": null,
   "id": "ab27a9a3-e7de-436b-8d06-3bd8915e8899",
   "metadata": {},
   "outputs": [],
   "source": []
  }
 ],
 "metadata": {
  "kernelspec": {
   "display_name": "Python 3 (ipykernel)",
   "language": "python",
   "name": "python3"
  },
  "language_info": {
   "codemirror_mode": {
    "name": "ipython",
    "version": 3
   },
   "file_extension": ".py",
   "mimetype": "text/x-python",
   "name": "python",
   "nbconvert_exporter": "python",
   "pygments_lexer": "ipython3",
   "version": "3.8.16"
  }
 },
 "nbformat": 4,
 "nbformat_minor": 5
}
